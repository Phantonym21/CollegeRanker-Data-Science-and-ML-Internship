{
 "cells": [
  {
   "cell_type": "markdown",
   "metadata": {
    "id": "DH9WovFhPo5r"
   },
   "source": [
    "# <center>Box Office Data Analytics</h2>"
   ]
  },
  {
   "cell_type": "markdown",
   "metadata": {
    "id": "O_yEWwN1Po5z"
   },
   "source": [
    "## Import Libraries"
   ]
  },
  {
   "cell_type": "code",
   "execution_count": null,
   "metadata": {
    "id": "sTVHZTdEPo50"
   },
   "outputs": [],
   "source": [
    "import numpy as np\n",
    "import pandas as pd \n",
    "pd.set_option('max_columns',None)\n",
    "import matplotlib.pyplot as plt\n",
    "import seaborn as sns\n",
    "%matplotlib inline\n",
    "plt.style.use('ggplot')"
   ]
  },
  {
   "cell_type": "code",
   "execution_count": null,
   "metadata": {
    "id": "sA1aawnSPo51"
   },
   "outputs": [],
   "source": []
  },
  {
   "cell_type": "markdown",
   "metadata": {
    "id": "Hje7yn7kPo52"
   },
   "source": [
    "## Task 1: Data Loading and Exploration"
   ]
  },
  {
   "cell_type": "code",
   "execution_count": null,
   "metadata": {
    "id": "_8by8dRhPo53"
   },
   "outputs": [],
   "source": [
    "data = pd.read_csv('box_office.csv')"
   ]
  },
  {
   "cell_type": "code",
   "execution_count": null,
   "metadata": {
    "id": "A1N51GVKPo54"
   },
   "outputs": [],
   "source": [
    "data.head()"
   ]
  },
  {
   "cell_type": "markdown",
   "metadata": {
    "id": "h1C9Vze1Po56"
   },
   "source": [
    "## Task 2: Visualizing the Target Distribution"
   ]
  },
  {
   "cell_type": "code",
   "execution_count": null,
   "metadata": {
    "id": "pErQCv3bPo57"
   },
   "outputs": [],
   "source": [
    "fig,ax=plt.subplots(figsize=(16,6))\n",
    "plt.subplot(1,2,1)\n",
    "sns.distplot(data['revenue'],kde=False)\n",
    "plt.title('Distribution of revenue')\n",
    "plt.subplot(1,2,2)\n",
    "sns.distplot(np.log(data['revenue']),kde=False)\n",
    "plt.title('Distribution of Log=Transformed revenue')"
   ]
  },
  {
   "cell_type": "code",
   "execution_count": null,
   "metadata": {
    "id": "GsoCEviqPo58"
   },
   "outputs": [],
   "source": [
    "data['log_revenue']=np.log(data['revenue'])"
   ]
  },
  {
   "cell_type": "markdown",
   "metadata": {
    "id": "hIZLMZ5kPo59"
   },
   "source": [
    "## Task 3: Relationship between Film Revenue and Budget"
   ]
  },
  {
   "cell_type": "code",
   "execution_count": null,
   "metadata": {
    "id": "GvQnNCTPPo5-"
   },
   "outputs": [],
   "source": [
    "fig,ax=plt.subplots(figsize=(16,6))\n",
    "plt.subplot(1,2,1)\n",
    "sns.scatterplot(data['budget'],data['revenue'])\n",
    "plt.title('Revenue vs Budget');\n",
    "plt.subplot(1,2,2)\n",
    "sns.scatterplot(np.log(data['budget']),data['log_revenue'])\n",
    "plt.title('Log Revenue vs Log Budget');"
   ]
  },
  {
   "cell_type": "code",
   "execution_count": null,
   "metadata": {
    "id": "yQUqi89oPo5-"
   },
   "outputs": [],
   "source": [
    "data['Log budget'] = np.log(data['budget'])"
   ]
  },
  {
   "cell_type": "markdown",
   "metadata": {
    "id": "Gq53luJ_Po5_"
   },
   "source": [
    "## Task 4: Distribution of Languages in Film"
   ]
  },
  {
   "cell_type": "code",
   "execution_count": null,
   "metadata": {
    "id": "B89ZPsrsPo6A"
   },
   "outputs": [],
   "source": [
    "data.loc[data['original_language'].isin(data['original_language'].value_counts().head(10).index)]"
   ]
  },
  {
   "cell_type": "code",
   "execution_count": null,
   "metadata": {
    "id": "9WwlJH2RPo6A"
   },
   "outputs": [],
   "source": [
    "language_data = data.loc[data['original_language'].isin(data['original_language'].value_counts().head(10).index)]"
   ]
  },
  {
   "cell_type": "code",
   "execution_count": null,
   "metadata": {
    "id": "Pzlghaw9Po6B"
   },
   "outputs": [],
   "source": [
    "fig,ax=plt.subplots(figsize=(16,6))\n",
    "plt.subplot(1,2,1)\n",
    "sns.boxplot(x='original_language',y='revenue',data=language_data)\n",
    "plt.title('Mean revenue per language')\n",
    "plt.subplot(1,2,2)\n",
    "sns.boxplot(x='original_language',y='log_revenue',data=language_data)\n",
    "plt.title('Mean log revenue per language')"
   ]
  }
 ],
 "metadata": {
  "colab": {
   "name": "Project_2 Notebook.ipynb",
   "provenance": []
  },
  "kernelspec": {
   "display_name": "Python 3 (ipykernel)",
   "language": "python",
   "name": "python3"
  },
  "language_info": {
   "codemirror_mode": {
    "name": "ipython",
    "version": 3
   },
   "file_extension": ".py",
   "mimetype": "text/x-python",
   "name": "python",
   "nbconvert_exporter": "python",
   "pygments_lexer": "ipython3",
   "version": "3.9.7"
  }
 },
 "nbformat": 4,
 "nbformat_minor": 1
}
